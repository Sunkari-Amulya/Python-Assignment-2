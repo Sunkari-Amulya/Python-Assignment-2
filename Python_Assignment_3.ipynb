{
  "nbformat": 4,
  "nbformat_minor": 0,
  "metadata": {
    "colab": {
      "name": "Python Assignment 3",
      "provenance": [],
      "authorship_tag": "ABX9TyMzDw056GvBPEC+B33LCXg7",
      "include_colab_link": true
    },
    "kernelspec": {
      "name": "python3",
      "display_name": "Python 3"
    }
  },
  "cells": [
    {
      "cell_type": "markdown",
      "metadata": {
        "id": "view-in-github",
        "colab_type": "text"
      },
      "source": [
        "<a href=\"https://colab.research.google.com/github/Sunkari-Amulya/Python-Assignment-2/blob/master/Python_Assignment_3.ipynb\" target=\"_parent\"><img src=\"https://colab.research.google.com/assets/colab-badge.svg\" alt=\"Open In Colab\"/></a>"
      ]
    },
    {
      "cell_type": "code",
      "metadata": {
        "id": "Tt2WVeRSKF2q",
        "colab_type": "code",
        "colab": {
          "base_uri": "https://localhost:8080/",
          "height": 106
        },
        "outputId": "6a3a5397-1d67-4dcb-ba33-897751c4fe1d"
      },
      "source": [
        "#Question 1\n",
        "a=float(input(\"Enter first side of triangle\"))\n",
        "b=float(input(\"Enter second side of triangle\"))\n",
        "c=float(input(\"Enter third side of triangle\"))\n",
        "s = (a + b + c) / 2\n",
        "area = (s*(s-a)*(s-b)*(s-c)) ** 0.5\n",
        "print(\"Area of triangle is\",area)"
      ],
      "execution_count": null,
      "outputs": [
        {
          "output_type": "stream",
          "text": [
            "Enter first side of triangle5\n",
            "Enter second side of triangle5\n",
            "Enter third side of triangle5\n",
            "Area of triangle is 10.825317547305483\n"
          ],
          "name": "stdout"
        }
      ]
    },
    {
      "cell_type": "code",
      "metadata": {
        "id": "L_YhSnpvP40I",
        "colab_type": "code",
        "colab": {
          "base_uri": "https://localhost:8080/",
          "height": 71
        },
        "outputId": "d2854899-1ab6-4e59-9f70-66115745eb3a"
      },
      "source": [
        "#Question 2\n",
        "a=input(\"Enter any string\")\n",
        "b=a[::-1]\n",
        "if (a==b) :\n",
        "  print ( \"The given string is palindrome\\n\",a) \n",
        "else :\n",
        "  print (\"The given string is not a palindrome\")"
      ],
      "execution_count": null,
      "outputs": [
        {
          "output_type": "stream",
          "text": [
            "Enter any string10\n",
            "The given string is not a palindrome\n"
          ],
          "name": "stdout"
        }
      ]
    },
    {
      "cell_type": "code",
      "metadata": {
        "id": "7wSHgOx7REu5",
        "colab_type": "code",
        "colab": {
          "base_uri": "https://localhost:8080/",
          "height": 71
        },
        "outputId": "0452660c-b999-4e74-d24e-2ae4f7aefb36"
      },
      "source": [
        "#Question 3\n",
        "y=int(input(\"Enter year\"))\n",
        "if y%4==0 :\n",
        "  print (\"The given year {} is a leap year\",format(y))\n",
        "else :\n",
        "  print (\"The given year {} is a not a leap year\",format(y))"
      ],
      "execution_count": null,
      "outputs": [
        {
          "output_type": "stream",
          "text": [
            "Enter year2020\n",
            "The given year {} is a leap year 2020\n"
          ],
          "name": "stdout"
        }
      ]
    },
    {
      "cell_type": "code",
      "metadata": {
        "id": "a5QhAizFSW7L",
        "colab_type": "code",
        "colab": {
          "base_uri": "https://localhost:8080/",
          "height": 51
        },
        "outputId": "05f08fc8-a8de-47ee-b11d-3d8665fe687f"
      },
      "source": [
        "#Question 4\n",
        "s=input(\"Enter a string\")\n",
        "for i in range (0,len(s)) :\n",
        "   if s[i]==' ' :\n",
        "      s=s.replace(s[i],'-')\n",
        "print (s)"
      ],
      "execution_count": null,
      "outputs": [
        {
          "output_type": "stream",
          "text": [
            "Enter a string50\n",
            "50\n"
          ],
          "name": "stdout"
        }
      ]
    },
    {
      "cell_type": "code",
      "metadata": {
        "id": "0k9DBKl1Tf5r",
        "colab_type": "code",
        "colab": {
          "base_uri": "https://localhost:8080/",
          "height": 51
        },
        "outputId": "86a30ec8-6286-4e4d-bc47-d60a0193564a"
      },
      "source": [
        "#Question 5\n",
        "s=input(\"Enter the string \")\n",
        "i =s.split()\n",
        "i.sort()\n",
        "for a in i :\n",
        "   print(a)"
      ],
      "execution_count": null,
      "outputs": [
        {
          "output_type": "stream",
          "text": [
            "Enter the string 100\n",
            "100\n"
          ],
          "name": "stdout"
        }
      ]
    },
    {
      "cell_type": "code",
      "metadata": {
        "id": "5lzjMUKLWMcJ",
        "colab_type": "code",
        "colab": {
          "base_uri": "https://localhost:8080/",
          "height": 51
        },
        "outputId": "cec07ffd-7dd3-4b25-c674-1e03875fc50b"
      },
      "source": [
        "\n",
        "#Question 6\n",
        "s=int(input(\"Enter your salary\"))\n",
        "if s<=250000 :\n",
        "  print (\"No tax\")\n",
        "elif 250001<=s<=500000 :\n",
        "  print (\"Tax to be paid is \",(s*5)/100)\n",
        "elif 500001<=s<=750000 :\n",
        "  print (\"Tax to be paid is \",(s*10)/100)\n",
        "elif 750001<=s<=1000000 :\n",
        "  print (\"Tax to be paid is \",(s*15)/100)\n",
        "elif 1000001<=s<=1250000 :\n",
        "  print (\"Tax to be paid is \",(s*20)/100)\n",
        "elif 1250001<=s<=1500000 :\n",
        "  print (\"Tax to be paid is \",(s*25)/100)\n",
        "else :\n",
        "  print (\"Tax to be paid is \",(s*30)/100)"
      ],
      "execution_count": null,
      "outputs": [
        {
          "output_type": "stream",
          "text": [
            "Enter your salary25000\n",
            "No tax\n"
          ],
          "name": "stdout"
        }
      ]
    },
    {
      "cell_type": "code",
      "metadata": {
        "id": "2h3LWIm5e2ta",
        "colab_type": "code",
        "colab": {
          "base_uri": "https://localhost:8080/",
          "height": 86
        },
        "outputId": "14056d77-d248-4de2-9ec1-06338997742a"
      },
      "source": [
        "\n",
        "#Question 7\n",
        "n=(input(\"Enter first integer\"))\n",
        "m=(input(\"Enter second integer\"))\n",
        "o=(input(\"Enter third integer\"))\n",
        "print(n+m+o)"
      ],
      "execution_count": null,
      "outputs": [
        {
          "output_type": "stream",
          "text": [
            "Enter first integer1\n",
            "Enter second integer2\n",
            "Enter third integer3\n",
            "123\n"
          ],
          "name": "stdout"
        }
      ]
    },
    {
      "cell_type": "code",
      "metadata": {
        "id": "uNVK_ncJiEba",
        "colab_type": "code",
        "colab": {
          "base_uri": "https://localhost:8080/",
          "height": 103
        },
        "outputId": "ff37b6b2-b3d1-43df-8ece-d21cb8fdf8c0"
      },
      "source": [
        "\n",
        "#Question 8\n",
        "d=int(input(\"Enter no.of days\"))\n",
        "h=int(input(\"Enter no.of hours\"))\n",
        "m=int(input(\"Enter no.of minutes\"))\n",
        "s=int(input(\"Enter no.of seconds\"))\n",
        "t=d*24*60*60+h*60*60+m*60+s\n",
        "print (\"The duration is \",t)"
      ],
      "execution_count": null,
      "outputs": [
        {
          "output_type": "stream",
          "text": [
            "Enter no.of days0\n",
            "Enter no.of hours1\n",
            "Enter no.of minutes1\n",
            "Enter no.of seconds1\n",
            "The duration is  3661\n"
          ],
          "name": "stdout"
        }
      ]
    },
    {
      "cell_type": "code",
      "metadata": {
        "id": "YJP8a5lZkRig",
        "colab_type": "code",
        "colab": {
          "base_uri": "https://localhost:8080/",
          "height": 86
        },
        "outputId": "1debb718-2d1a-4cc1-e738-18a56590dd46"
      },
      "source": [
        "\n",
        "#Question 9\n",
        "n=int(input(\"Enter first integer\"))\n",
        "m=int(input(\"Enter second integer\"))\n",
        "o=int(input(\"Enter third integer\"))\n",
        "s=[n,m,o]\n",
        "j=s[0]+s[1]+s[2]-max(s)-min(s)\n",
        "print(max(s),j,min(s))"
      ],
      "execution_count": null,
      "outputs": [
        {
          "output_type": "stream",
          "text": [
            "Enter first integer1\n",
            "Enter second integer2\n",
            "Enter third integer3\n",
            "3 2 1\n"
          ],
          "name": "stdout"
        }
      ]
    },
    {
      "cell_type": "code",
      "metadata": {
        "id": "TcD2clFfopbT",
        "colab_type": "code",
        "colab": {
          "base_uri": "https://localhost:8080/",
          "height": 86
        },
        "outputId": "ccbf3d5a-725b-4620-eeea-15cc15794739"
      },
      "source": [
        "#Question 10\n",
        "y=int(input(\"Enter year YYYY\"))\n",
        "m=int(input(\"Enter month MM\"))\n",
        "d=int(input(\"Enter date DD\"))\n",
        "0<m<13\n",
        "0<d<32\n",
        "if d==31 and m==12 :\n",
        "   print (\"YYYY-MM-DD : {}-01-01\".format(y+1))\n",
        "elif (d==31 and (m==1 or 3 or 5 or 7 or 8 or 10)) :\n",
        "   print (\"YYYY-MM-DD : {}-{}-01\".format(y,m+1))\n",
        "elif ( d==30 and (m==4 or 6 or 9 or 11)) :\n",
        "   print(\"YYYY-MM-DD : {}-{}-01\".format(y,m+1))\n",
        "elif ( d==28 and m==2 and y%4==0):\n",
        "   print (\"YYYY-MM-DD : {}-{}-29\".format(y,m))\n",
        "elif (d==28 and m==2):\n",
        "   print (\"YYYY-MM-DD : {}-03-01\".format(y))\n",
        "else :\n",
        "   print (\"YYYY-MM-DD : {}-{}-{}\".format(y,m,d+1))"
      ],
      "execution_count": null,
      "outputs": [
        {
          "output_type": "stream",
          "text": [
            "Enter year YYYY2020\n",
            "Enter month MM3\n",
            "Enter date DD24\n",
            "YYYY-MM-DD : 2020-3-25\n"
          ],
          "name": "stdout"
        }
      ]
    },
    {
      "cell_type": "code",
      "metadata": {
        "id": "RGzw4U4eu_l4",
        "colab_type": "code",
        "colab": {
          "base_uri": "https://localhost:8080/",
          "height": 34
        },
        "outputId": "c3a446af-66e7-4940-9d0a-a3caafd434f5"
      },
      "source": [
        "\n",
        "#Question 11\n",
        "def p(a,b,c,d,e,f,g,h) :\n",
        "   return a*b*c*d*e*f*g*h\n",
        "p(45,3,2,89,72,1,10,7)"
      ],
      "execution_count": null,
      "outputs": [
        {
          "output_type": "execute_result",
          "data": {
            "text/plain": [
              "121111200"
            ]
          },
          "metadata": {
            "tags": []
          },
          "execution_count": 20
        }
      ]
    },
    {
      "cell_type": "code",
      "metadata": {
        "id": "Aqhno2G9wExQ",
        "colab_type": "code",
        "colab": {
          "base_uri": "https://localhost:8080/",
          "height": 34
        },
        "outputId": "408b471e-7be5-4bc4-9ba5-b484e8e41148"
      },
      "source": [
        " \n",
        "#Question 12\n",
        "def p(a,b,c,d,e,f) :\n",
        "  return a+b,b+c,c+d,d+e,e+f\n",
        "p(5,6,8,34,89,1)"
      ],
      "execution_count": null,
      "outputs": [
        {
          "output_type": "execute_result",
          "data": {
            "text/plain": [
              "(11, 14, 42, 123, 90)"
            ]
          },
          "metadata": {
            "tags": []
          },
          "execution_count": 21
        }
      ]
    },
    {
      "cell_type": "code",
      "metadata": {
        "id": "ImSPY4RewbNu",
        "colab_type": "code",
        "colab": {
          "base_uri": "https://localhost:8080/",
          "height": 34
        },
        "outputId": "fd8db853-bce5-4e61-a5a9-134f3ff28bc9"
      },
      "source": [
        " \n",
        "#Question 13\n",
        "def p(a,b,c,d,e,f) :\n",
        "  return a,a*b,a*b*c,a*b*c*d,a*b*c*d*e,a*b*c*d*e*f\n",
        "p(5,6,8,3,9,1)"
      ],
      "execution_count": null,
      "outputs": [
        {
          "output_type": "execute_result",
          "data": {
            "text/plain": [
              "(5, 30, 240, 720, 6480, 6480)"
            ]
          },
          "metadata": {
            "tags": []
          },
          "execution_count": 23
        }
      ]
    },
    {
      "cell_type": "code",
      "metadata": {
        "id": "GPZc-pSixFbu",
        "colab_type": "code",
        "colab": {
          "base_uri": "https://localhost:8080/",
          "height": 51
        },
        "outputId": "8363addc-f507-43ec-ba25-5d1fa8ebfb5a"
      },
      "source": [
        " \n",
        "#Question 14\n",
        "num=int(input(\"Enter a number \"))\n",
        "returnlist=[]\n",
        "for i in str(num):\n",
        "      returnlist. append(int(i)) \n",
        "print (returnlist)"
      ],
      "execution_count": null,
      "outputs": [
        {
          "output_type": "stream",
          "text": [
            "Enter a number 25369\n",
            "[2, 5, 3, 6, 9]\n"
          ],
          "name": "stdout"
        }
      ]
    },
    {
      "cell_type": "code",
      "metadata": {
        "id": "PZl6jm0JDh-i",
        "colab_type": "code",
        "colab": {
          "base_uri": "https://localhost:8080/",
          "height": 51
        },
        "outputId": "654614d3-240a-436c-d70e-ffc81eee6737"
      },
      "source": [
        "#Question 15\n",
        "string=input(\"Enter a palindrome \")\n",
        "STR1=[]\n",
        "STR2=[]\n",
        "Index=0\n",
        "for i in range(0,len(string)-1):\n",
        "    for j in range(i+1,len(string)+1):\n",
        "        if j-i>1:\n",
        "           q=string[i:j]\n",
        "           if (q==q[::-1]):\n",
        "              STR1.append(string[i:j])\n",
        "              STR2.append(len(string[i:j]))\n",
        "Maximum=max(STR2)\n",
        "for i in STR2:\n",
        "    if i==Maximum:\n",
        "       print(STR1[Index])\n",
        "    else:\n",
        "       Index=Index+1"
      ],
      "execution_count": null,
      "outputs": [
        {
          "output_type": "stream",
          "text": [
            "Enter a palindrome racecar\n",
            "racecar\n"
          ],
          "name": "stdout"
        }
      ]
    },
    {
      "cell_type": "code",
      "metadata": {
        "id": "Qf11iPoYMW_O",
        "colab_type": "code",
        "colab": {
          "base_uri": "https://localhost:8080/",
          "height": 89
        },
        "outputId": "985370f1-aa49-492e-d63a-1b0f6cc57a4a"
      },
      "source": [
        "#Question 16\n",
        "Num1=input(\"enter a binary number of length 10\")\n",
        "Num2=input(\"enter a binary number of length 5\")\n",
        "if Num2[:] in Num1[:]:\n",
        "   print(1)\n",
        "else:\n",
        "   print(0)"
      ],
      "execution_count": null,
      "outputs": [
        {
          "output_type": "stream",
          "text": [
            "enter a binary number of length 1010\n",
            "enter a binary number of length 55\n",
            "0\n"
          ],
          "name": "stdout"
        }
      ]
    }
  ]
}